{
 "cells": [
  {
   "cell_type": "code",
   "execution_count": 1,
   "id": "d1bfa92d",
   "metadata": {},
   "outputs": [],
   "source": [
    "import csv\n",
    "import cv2\n",
    "import itertools\n",
    "import numpy as np\n",
    "import pandas as pd\n",
    "import os\n",
    "import sys\n",
    "import tempfile\n",
    "import tqdm\n",
    "import random\n",
    "\n",
    "from matplotlib import pyplot as plt\n",
    "from matplotlib.collections import LineCollection\n",
    "\n",
    "import tensorflow as tf\n",
    "import tensorflow_hub as hub\n",
    "from tensorflow import keras\n",
    "from tensorflow.keras.callbacks import EarlyStopping\n",
    "\n",
    "from sklearn.model_selection import train_test_split\n",
    "from sklearn.metrics import accuracy_score, classification_report, confusion_matrix\n",
    "\n",
    "from PIL import Image"
   ]
  },
  {
   "cell_type": "code",
   "execution_count": 2,
   "id": "428ae849",
   "metadata": {},
   "outputs": [],
   "source": [
    "# Apparently you may use different seed values at each stage\n",
    "seed_value = 42\n",
    "\n",
    "# 1. Set the `PYTHONHASHSEED` environment variable at a fixed value\n",
    "os.environ['PYTHONHASHSEED'] = str(seed_value)\n",
    "\n",
    "# 2. Set the `python` built-in pseudo-random generator at a fixed value\n",
    "random.seed(seed_value)\n",
    "\n",
    "# 3. Set the `numpy` pseudo-random generator at a fixed value\n",
    "np.random.seed(seed_value)\n",
    "\n",
    "# 4. Set the `tensorflow` pseudo-random generator at a fixed value\n",
    "tf.compat.v1.set_random_seed(seed_value)\n",
    "\n",
    "# 5. Configure a new global `tensorflow` session\n",
    "from keras import backend as K\n",
    "session_conf = tf.compat.v1.ConfigProto(intra_op_parallelism_threads=1, inter_op_parallelism_threads=1)\n",
    "sess = tf.compat.v1.Session(graph=tf.compat.v1.get_default_graph(), config=session_conf)\n",
    "tf.compat.v1.keras.backend.set_session(sess)"
   ]
  },
  {
   "cell_type": "code",
   "execution_count": 3,
   "id": "45f20885",
   "metadata": {},
   "outputs": [
    {
     "name": "stderr",
     "output_type": "stream",
     "text": [
      "fatal: destination path 'examples' already exists and is not an empty directory.\n"
     ]
    }
   ],
   "source": [
    "# Download model from TF Hub and check out inference code from GitHub\n",
    "!wget -q -O model_lightning.tflite https://tfhub.dev/google/lite-model/movenet/singlepose/lightning/tflite/float16/4?lite-format=tflite\n",
    "!git clone https://github.com/tensorflow/examples.git\n",
    "pose_sample_rpi_path = os.path.join(os.getcwd(), 'examples/lite/examples/pose_estimation/raspberry_pi')\n",
    "sys.path.append(pose_sample_rpi_path)\n",
    "\n",
    "# Load MoveNet Thunder model\n",
    "import utils\n",
    "from data import BodyPart\n",
    "from ml import Movenet\n",
    "movenet = Movenet('model_lightning')"
   ]
  },
  {
   "cell_type": "code",
   "execution_count": 4,
   "id": "dc38acb2",
   "metadata": {},
   "outputs": [],
   "source": [
    "def detect(input_tensor, inference_count=3):\n",
    "\n",
    "  image_height, image_width, channel = input_tensor.shape\n",
    "\n",
    "  # Identify the subject in the entire image\n",
    "  movenet.detect(input_tensor.numpy(), reset_crop_region=True)\n",
    "\n",
    "  # Repeatedly identify key points of the subject in the identified sub-area\n",
    "  for _ in range(inference_count - 1):\n",
    "    person = movenet.detect(input_tensor.numpy(), \n",
    "                            reset_crop_region=False)\n",
    "\n",
    "  return person\n"
   ]
  },
  {
   "cell_type": "code",
   "execution_count": 5,
   "id": "adaadea0",
   "metadata": {},
   "outputs": [],
   "source": [
    "## DEFINITION OF THE DATASET PATH AND LIST WITH CATEGORY NAMES\n",
    "\n",
    "# Directory to the data\n",
    "DATASET_DIR = \"../dataSet/\"\n",
    "\n",
    "# List with category names\n",
    "all_classes_names = os.listdir('../dataSet/')\n",
    "CLASSES_LIST = all_classes_names\n"
   ]
  },
  {
   "cell_type": "code",
   "execution_count": 6,
   "id": "1a6c9421",
   "metadata": {},
   "outputs": [],
   "source": [
    "# Initialization of constants for dimensions and number of frames per video\n",
    "\n",
    "# First, define the new dimension to which to resize the frames.\n",
    "# This choice is made to maintain the rectangular shape of the videos,\n",
    "# and because larger dimensions could hinder the use of overly complex models\n",
    "# due to the high memory usage.\n",
    "IMAGE_HEIGHT, IMAGE_WIDTH = 224, 224\n",
    "\n",
    "# define the number of frames to extract from each video.\n",
    "# A higher number of frames will make the model more precise,\n",
    "# but it also increases computational cost.\n",
    "SEQUENCE_LENGTH = 10\n",
    "\n",
    "# declaring threshold for detection \n",
    "detection_threshold = 0.1\n",
    "\n",
    "# declaring the batch_size\n",
    "#batch_size = 64\n",
    "\n",
    "# epoch\n",
    "# epochs = 150"
   ]
  },
  {
   "cell_type": "code",
   "execution_count": 7,
   "id": "d2b8eea3",
   "metadata": {},
   "outputs": [],
   "source": [
    "def frames_extraction(video_path):\n",
    "    # Initialize an empty list to store frames\n",
    "    frames_list = []\n",
    "    \n",
    "    # Open the video file for reading\n",
    "    video_reader = cv2.VideoCapture(video_path)\n",
    "\n",
    "    # Get the total number of frames in the video\n",
    "    # Now, it is necessary to extract the total number of frames per video, as frames need to be extracted for the entire length of the video and not just at the beginning\n",
    "    video_frames_count = int(video_reader.get(cv2.CAP_PROP_FRAME_COUNT))\n",
    "\n",
    "    # This way, the video is divided into intervals of equal frames\n",
    "    skip_frames_window = max(int(video_frames_count/SEQUENCE_LENGTH), 1)\n",
    "\n",
    "    # Iterate through a for loop that will select 10 frames per video, resize and normalize them individually,\n",
    "    # and then add them to the previously initialized list\n",
    "    for frame_counter in range(SEQUENCE_LENGTH):\n",
    "\n",
    "        # This way, 10 frames are evenly selected across the entire video\n",
    "        video_reader.set(cv2.CAP_PROP_POS_FRAMES, frame_counter * skip_frames_window)\n",
    "\n",
    "        # Use the command to read the videos\n",
    "        # Also define the *success* element because the read element has a boolean value as output\n",
    "        # that provides the outcome of the procedure\n",
    "        success, frame = video_reader.read() \n",
    "\n",
    "        # Check if the reading was successful, If the reading was not successful, break the loop\n",
    "        if not success:\n",
    "            return frames_list\n",
    "\n",
    "        # Once the frames are extracted, they need to be resized to the chosen dimensions\n",
    "        resized_frame = cv2.resize(frame, (IMAGE_HEIGHT, IMAGE_WIDTH))\n",
    "        \n",
    "        # Convert the frame to RGB format and then to a tensor\n",
    "        rgb_frame = cv2.cvtColor(resized_frame, cv2.COLOR_BGR2RGB)\n",
    "        image = tf.convert_to_tensor(frame)\n",
    "\n",
    "        # Identify the subject's keypoints using the previously defined detect function\n",
    "        person = detect(image)\n",
    "\n",
    "        # Save the 17 keypoints and check if the minimum confidence threshold is exceeded for the keypoint with the lowest confidence\n",
    "        min_landmark_score = min(\n",
    "            [keypoint.score for keypoint in person.keypoints])\n",
    "        should_keep_image = min_landmark_score >= detection_threshold\n",
    "\n",
    "        if not should_keep_image:\n",
    "            return frames_list\n",
    "\n",
    "        # Save x and y coordinates and confidence for each keypoint\n",
    "        pose_landmarks = np.array(\n",
    "            [[keypoint.coordinate.x, keypoint.coordinate.y, keypoint.score]\n",
    "              for keypoint in person.keypoints],\n",
    "            dtype = np.float32)\n",
    "        \n",
    "        coordinates = pose_landmarks.flatten().astype(str).tolist()\n",
    "\n",
    "        # Add the frame to the list\n",
    "        frames_list.append(coordinates)\n",
    "    \n",
    "    # As mentioned earlier, after each read, it is necessary to release the VideoCapture element so that it can be used on other videos \n",
    "    video_reader.release()\n",
    "\n",
    "    # Return the list of frames\n",
    "    return frames_list\n"
   ]
  },
  {
   "cell_type": "code",
   "execution_count": 8,
   "id": "493fe378",
   "metadata": {},
   "outputs": [],
   "source": [
    "def create_dataset():\n",
    "\n",
    "    # Declare lists to store features, labels, and file paths\n",
    "    features = []\n",
    "    labels = []\n",
    "    video_files_paths = []\n",
    "    \n",
    "    # Iterate through all classes in the CLASSES_LIST variable\n",
    "    for class_index, class_name in enumerate(CLASSES_LIST):\n",
    "        \n",
    "        print(f'Extracting Data of Class: {class_name}')\n",
    "        \n",
    "        # List of videos in the specific class\n",
    "        files_list = os.listdir(os.path.join(DATASET_DIR, class_name))\n",
    "        \n",
    "        # Iterate through the list of files in the class\n",
    "        for file_name in files_list:\n",
    "            \n",
    "            # Extract the video path\n",
    "            video_file_path = os.path.join(DATASET_DIR, class_name, file_name)\n",
    "\n",
    "            # Extract frames from each video using the previously created function\n",
    "            frames = frames_extraction(video_file_path)\n",
    "\n",
    "            # Check that the extracted frames from each video match the SEQUENCE_LENGTH variable\n",
    "            if len(frames) == SEQUENCE_LENGTH:\n",
    "\n",
    "                # Add the extracted elements to their respective lists\n",
    "                features.append(frames)\n",
    "                labels.append(class_index)\n",
    "                video_files_paths.append(video_file_path)\n",
    " \n",
    "    # Return the frames, labels, and file paths\n",
    "    return features, labels, video_files_paths\n"
   ]
  },
  {
   "cell_type": "code",
   "execution_count": 9,
   "id": "e1c8a355",
   "metadata": {},
   "outputs": [
    {
     "name": "stdout",
     "output_type": "stream",
     "text": [
      "Extracting Data of Class: cartwheel\n"
     ]
    },
    {
     "name": "stderr",
     "output_type": "stream",
     "text": [
      "C:\\Users\\cspil\\anaconda3\\Lib\\site-packages\\numpy\\lib\\function_base.py:518: RuntimeWarning: Mean of empty slice.\n",
      "  avg = a.mean(axis, **keepdims_kw)\n",
      "C:\\Users\\cspil\\anaconda3\\Lib\\site-packages\\numpy\\core\\_methods.py:192: RuntimeWarning: invalid value encountered in scalar divide\n",
      "  ret = ret.dtype.type(ret / rcount)\n"
     ]
    },
    {
     "name": "stdout",
     "output_type": "stream",
     "text": [
      "Extracting Data of Class: clap\n",
      "Extracting Data of Class: climbstairs\n",
      "Extracting Data of Class: handstand\n",
      "Extracting Data of Class: jump\n",
      "Extracting Data of Class: pullup\n",
      "Extracting Data of Class: pushup\n",
      "Extracting Data of Class: run\n",
      "Extracting Data of Class: situp\n",
      "Extracting Data of Class: somersault\n",
      "Extracting Data of Class: turn\n",
      "Extracting Data of Class: walk\n"
     ]
    }
   ],
   "source": [
    "with tf.device('CPU:0'):\n",
    "  features, labels, video_files_paths = create_dataset()"
   ]
  },
  {
   "cell_type": "code",
   "execution_count": 10,
   "id": "b71e40e9",
   "metadata": {},
   "outputs": [],
   "source": [
    "features = np.asarray(features)\n",
    "labels = np.array(labels)"
   ]
  },
  {
   "cell_type": "code",
   "execution_count": 11,
   "id": "8e8ec4ac",
   "metadata": {},
   "outputs": [
    {
     "name": "stdout",
     "output_type": "stream",
     "text": [
      "[[['113.0' '73.0' '0.66088283' ... '110.0' '161.0' '0.85483146']\n",
      "  ['105.0' '73.0' '0.56971264' ... '108.0' '158.0' '0.79080874']\n",
      "  ['107.0' '67.0' '0.7166696' ... '108.0' '153.0' '0.7617853']\n",
      "  ...\n",
      "  ['193.0' '71.0' '0.513844' ... '188.0' '166.0' '0.5920764']\n",
      "  ['137.0' '68.0' '0.5811192' ... '92.0' '165.0' '0.7497609']\n",
      "  ['215.0' '73.0' '0.5047724' ... '205.0' '167.0' '0.6834769']]\n",
      "\n",
      " [['192.0' '79.0' '0.49193275' ... '187.0' '205.0' '0.2051097']\n",
      "  ['192.0' '83.0' '0.42918873' ... '184.0' '205.0' '0.41358614']\n",
      "  ['180.0' '68.0' '0.55907845' ... '167.0' '190.0' '0.6012492']\n",
      "  ...\n",
      "  ['95.0' '68.0' '0.43439975' ... '83.0' '169.0' '0.61756545']\n",
      "  ['86.0' '80.0' '0.6290889' ... '83.0' '175.0' '0.43106']\n",
      "  ['90.0' '71.0' '0.48490676' ... '104.0' '170.0' '0.80508614']]\n",
      "\n",
      " [['110.0' '114.0' '0.52532834' ... '117.0' '215.0' '0.75616926']\n",
      "  ['118.0' '115.0' '0.43815866' ... '112.0' '213.0' '0.6612354']\n",
      "  ['118.0' '118.0' '0.41984233' ... '99.0' '209.0' '0.84469867']\n",
      "  ...\n",
      "  ['155.0' '141.0' '0.5385192' ... '128.0' '238.0' '0.8244287']\n",
      "  ['152.0' '143.0' '0.51107514' ... '152.0' '238.0' '0.6641448']\n",
      "  ['137.0' '140.0' '0.46348217' ... '145.0' '239.0' '0.6018304']]\n",
      "\n",
      " ...\n",
      "\n",
      " [['269.0' '67.0' '0.4714514' ... '258.0' '193.0' '0.50677836']\n",
      "  ['282.0' '78.0' '0.5295005' ... '262.0' '195.0' '0.54597723']\n",
      "  ['335.0' '69.0' '0.4541312' ... '334.0' '197.0' '0.39779094']\n",
      "  ...\n",
      "  ['340.0' '32.0' '0.5445626' ... '324.0' '182.0' '0.56523806']\n",
      "  ['352.0' '31.0' '0.44636545' ... '341.0' '190.0' '0.6433339']\n",
      "  ['345.0' '25.0' '0.65666246' ... '341.0' '185.0' '0.71142066']]\n",
      "\n",
      " [['355.0' '30.0' '0.5383797' ... '341.0' '189.0' '0.57484424']\n",
      "  ['353.0' '35.0' '0.37980393' ... '345.0' '199.0' '0.46635538']\n",
      "  ['360.0' '42.0' '0.44266492' ... '340.0' '207.0' '0.7474109']\n",
      "  ...\n",
      "  ['397.0' '26.0' '0.41356713' ... '390.0' '237.0' '0.22523342']\n",
      "  ['395.0' '37.0' '0.60678697' ... '396.0' '234.0' '0.3953982']\n",
      "  ['428.0' '35.0' '0.6148572' ... '399.0' '237.0' '0.55981076']]\n",
      "\n",
      " [['388.0' '49.0' '0.4837776' ... '390.0' '228.0' '0.62409']\n",
      "  ['391.0' '50.0' '0.70514476' ... '389.0' '226.0' '0.76463306']\n",
      "  ['394.0' '44.0' '0.78326225' ... '379.0' '213.0' '0.64092493']\n",
      "  ...\n",
      "  ['354.0' '42.0' '0.38847956' ... '351.0' '230.0' '0.71851397']\n",
      "  ['354.0' '38.0' '0.72164154' ... '349.0' '226.0' '0.69446576']\n",
      "  ['354.0' '26.0' '0.6097076' ... '340.0' '213.0' '0.5782412']]]\n"
     ]
    }
   ],
   "source": [
    "print(features)"
   ]
  },
  {
   "cell_type": "code",
   "execution_count": 12,
   "id": "c3fe8d2e",
   "metadata": {},
   "outputs": [
    {
     "name": "stdout",
     "output_type": "stream",
     "text": [
      "[ 0  0  0  0  0  1  1  1  1  1  1  1  2  2  2  2  2  2  2  2  2  2  2  2\n",
      "  2  2  2  2  2  2  2  2  2  2  3  3  3  3  3  3  3  3  3  3  3  3  3  3\n",
      "  3  3  4  4  4  4  4  5  5  5  5  5  5  5  5  5  5  5  5  5  5  5  5  5\n",
      "  5  5  5  5  5  6  6  6  6  6  6  6  6  6  6  6  6  6  6  6  6  6  6  6\n",
      "  6  6  6  6  6  6  6  6  6  6  6  6  6  6  6  6  6  6  6  6  6  6  7  7\n",
      "  7  7  7  7  7  7  7  7  7  7  7  7  7  7  7  7  7  7  7  7  7  8  8  8\n",
      "  8  8  8  8  8  8  8  8  8  8  8  8  8  8  8  8  8  8  8  8  8  8  8  8\n",
      "  9  9  9  9  9  9  9  9  9  9  9  9  9 10 10 10 10 10 10 10 10 10 10 10\n",
      " 10 10 10 10 10 10 11 11 11 11 11 11 11 11 11 11 11 11 11 11 11 11 11 11\n",
      " 11 11 11 11 11 11 11 11 11 11 11 11 11 11 11 11 11 11 11 11 11 11 11 11\n",
      " 11 11 11 11 11 11 11 11 11 11 11 11 11 11 11 11 11 11 11 11 11 11 11 11\n",
      " 11 11 11 11 11 11 11 11 11 11 11 11]\n"
     ]
    }
   ],
   "source": [
    "print(labels)"
   ]
  },
  {
   "cell_type": "code",
   "execution_count": 13,
   "id": "dc95d6b6",
   "metadata": {},
   "outputs": [
    {
     "name": "stdout",
     "output_type": "stream",
     "text": [
      "Class distribution: Counter({11: 78, 6: 41, 8: 27, 7: 23, 2: 22, 5: 22, 10: 17, 3: 16, 9: 13, 1: 7, 0: 5, 4: 5})\n"
     ]
    }
   ],
   "source": [
    "from collections import Counter\n",
    "\n",
    "class_distribution = Counter(labels)\n",
    "print(\"Class distribution:\", class_distribution)"
   ]
  },
  {
   "cell_type": "code",
   "execution_count": 14,
   "id": "dc320032",
   "metadata": {},
   "outputs": [],
   "source": [
    "# Splitting the dataset into a Training (75%) and Testing (25%) partition.\n",
    "features_train, features_test, labels_train, labels_test = train_test_split(features, labels,\n",
    "                                                                            test_size = 0.25, shuffle = True,\n",
    "                                                                            random_state = seed_value,\n",
    "                                                                            stratify = labels)\n"
   ]
  },
  {
   "cell_type": "code",
   "execution_count": 15,
   "id": "21cc3238",
   "metadata": {},
   "outputs": [
    {
     "data": {
      "text/plain": [
       "Counter({5: 16,\n",
       "         6: 31,\n",
       "         3: 12,\n",
       "         11: 58,\n",
       "         0: 4,\n",
       "         2: 17,\n",
       "         9: 10,\n",
       "         4: 4,\n",
       "         10: 13,\n",
       "         7: 17,\n",
       "         8: 20,\n",
       "         1: 5})"
      ]
     },
     "execution_count": 15,
     "metadata": {},
     "output_type": "execute_result"
    }
   ],
   "source": [
    "import collections\n",
    "collections.Counter(labels_train)"
   ]
  },
  {
   "cell_type": "code",
   "execution_count": 16,
   "id": "4d9bc184",
   "metadata": {},
   "outputs": [],
   "source": [
    "one_hot_encoded_labels = tf.keras.utils.to_categorical(labels)"
   ]
  },
  {
   "cell_type": "code",
   "execution_count": 17,
   "id": "dd253caa",
   "metadata": {},
   "outputs": [],
   "source": [
    "features_train, features_test, labels_train, labels_test = train_test_split(features, one_hot_encoded_labels,\n",
    "                                                                            test_size = 0.25, shuffle = True,\n",
    "                                                                            random_state = seed_value,\n",
    "                                                                            stratify = labels)\n"
   ]
  },
  {
   "cell_type": "code",
   "execution_count": 18,
   "id": "6fd69923",
   "metadata": {},
   "outputs": [],
   "source": [
    "features_train = features_train.astype(float)\n",
    "features_test = features_test.astype(float)"
   ]
  },
  {
   "cell_type": "code",
   "execution_count": 19,
   "id": "86e7ca4c",
   "metadata": {},
   "outputs": [],
   "source": [
    "inputs = keras.Input(shape = (SEQUENCE_LENGTH, 51)) ## coordinate\n",
    "x = inputs\n",
    "x = keras.layers.BatchNormalization()(x)\n",
    "x = tf.keras.layers.Bidirectional(keras.layers.LSTM(256, activation = 'tanh', return_sequences = True, kernel_regularizer=tf.keras.regularizers.l2(0.001)))(x)\n",
    "x = keras.layers.Dropout(0.2)(x)\n",
    "x = keras.layers.LSTM(128,activation = 'tanh', kernel_regularizer = tf.keras.regularizers.l2(0.001))(x)\n",
    "x = keras.layers.Dropout(0.2)(x)\n",
    "outputs = keras.layers.Dense(12, activation='softmax')(x)\n",
    "model = keras.Model(inputs = inputs, outputs = outputs)\n",
    "\n",
    "# A parameter for Early Stopping is created, which stops the algorithm when the loss on the validation set does not decrease for more than 15 epochs.\n",
    "early_stopping_callback = EarlyStopping(monitor = 'loss', patience = 15, mode = 'min', restore_best_weights = True)\n",
    "\n",
    "model.compile(loss = 'categorical_crossentropy', optimizer = 'adam', metrics = [\"accuracy\"])\n",
    "\n"
   ]
  },
  {
   "cell_type": "code",
   "execution_count": 20,
   "id": "f0e0ebeb",
   "metadata": {},
   "outputs": [
    {
     "name": "stdout",
     "output_type": "stream",
     "text": [
      "Model: \"model\"\n",
      "_________________________________________________________________\n",
      " Layer (type)                Output Shape              Param #   \n",
      "=================================================================\n",
      " input_1 (InputLayer)        [(None, 10, 51)]          0         \n",
      "                                                                 \n",
      " batch_normalization (Batch  (None, 10, 51)            204       \n",
      " Normalization)                                                  \n",
      "                                                                 \n",
      " bidirectional (Bidirection  (None, 10, 512)           630784    \n",
      " al)                                                             \n",
      "                                                                 \n",
      " dropout (Dropout)           (None, 10, 512)           0         \n",
      "                                                                 \n",
      " lstm_1 (LSTM)               (None, 128)               328192    \n",
      "                                                                 \n",
      " dropout_1 (Dropout)         (None, 128)               0         \n",
      "                                                                 \n",
      " dense (Dense)               (None, 12)                1548      \n",
      "                                                                 \n",
      "=================================================================\n",
      "Total params: 960728 (3.66 MB)\n",
      "Trainable params: 960626 (3.66 MB)\n",
      "Non-trainable params: 102 (408.00 Byte)\n",
      "_________________________________________________________________\n"
     ]
    }
   ],
   "source": [
    "model.summary()"
   ]
  },
  {
   "cell_type": "code",
   "execution_count": 21,
   "id": "89b797b4",
   "metadata": {},
   "outputs": [
    {
     "name": "stdout",
     "output_type": "stream",
     "text": [
      "Epoch 1/150\n",
      "4/4 [==============================] - 21s 1s/step - loss: 2.9887 - accuracy: 0.2754 - val_loss: 3.0076 - val_accuracy: 0.2899\n",
      "Epoch 2/150\n",
      "4/4 [==============================] - 1s 152ms/step - loss: 2.2785 - accuracy: 0.5362 - val_loss: 3.5751 - val_accuracy: 0.2899\n",
      "Epoch 3/150\n",
      "4/4 [==============================] - 1s 153ms/step - loss: 1.9501 - accuracy: 0.6039 - val_loss: 3.9765 - val_accuracy: 0.2899\n",
      "Epoch 4/150\n",
      "4/4 [==============================] - 1s 150ms/step - loss: 1.7512 - accuracy: 0.6715 - val_loss: 3.9476 - val_accuracy: 0.2899\n",
      "Epoch 5/150\n",
      "4/4 [==============================] - 1s 152ms/step - loss: 1.5927 - accuracy: 0.6860 - val_loss: 4.1919 - val_accuracy: 0.2899\n",
      "Epoch 6/150\n",
      "4/4 [==============================] - 1s 147ms/step - loss: 1.4709 - accuracy: 0.7391 - val_loss: 4.3997 - val_accuracy: 0.2899\n",
      "Epoch 7/150\n",
      "4/4 [==============================] - 1s 148ms/step - loss: 1.3771 - accuracy: 0.7536 - val_loss: 4.3070 - val_accuracy: 0.2899\n",
      "Epoch 8/150\n",
      "4/4 [==============================] - 1s 150ms/step - loss: 1.3052 - accuracy: 0.7585 - val_loss: 4.1417 - val_accuracy: 0.3043\n",
      "Epoch 9/150\n",
      "4/4 [==============================] - 1s 149ms/step - loss: 1.2396 - accuracy: 0.7729 - val_loss: 4.1555 - val_accuracy: 0.3188\n",
      "Epoch 10/150\n",
      "4/4 [==============================] - 1s 149ms/step - loss: 1.1172 - accuracy: 0.7826 - val_loss: 4.2824 - val_accuracy: 0.3333\n",
      "Epoch 11/150\n",
      "4/4 [==============================] - 1s 151ms/step - loss: 1.0485 - accuracy: 0.8213 - val_loss: 4.2741 - val_accuracy: 0.3333\n",
      "Epoch 12/150\n",
      "4/4 [==============================] - 1s 154ms/step - loss: 0.9756 - accuracy: 0.8551 - val_loss: 4.0882 - val_accuracy: 0.3333\n",
      "Epoch 13/150\n",
      "4/4 [==============================] - 1s 150ms/step - loss: 0.9159 - accuracy: 0.8696 - val_loss: 4.2957 - val_accuracy: 0.3333\n",
      "Epoch 14/150\n",
      "4/4 [==============================] - 1s 154ms/step - loss: 0.8687 - accuracy: 0.8599 - val_loss: 4.2357 - val_accuracy: 0.3478\n",
      "Epoch 15/150\n",
      "4/4 [==============================] - 1s 152ms/step - loss: 0.8236 - accuracy: 0.8792 - val_loss: 3.5250 - val_accuracy: 0.3768\n",
      "Epoch 16/150\n",
      "4/4 [==============================] - 1s 154ms/step - loss: 0.7455 - accuracy: 0.9130 - val_loss: 3.6120 - val_accuracy: 0.4058\n",
      "Epoch 17/150\n",
      "4/4 [==============================] - 1s 152ms/step - loss: 0.7085 - accuracy: 0.9179 - val_loss: 3.7674 - val_accuracy: 0.4203\n",
      "Epoch 18/150\n",
      "4/4 [==============================] - 1s 147ms/step - loss: 0.6783 - accuracy: 0.9179 - val_loss: 3.7348 - val_accuracy: 0.4203\n",
      "Epoch 19/150\n",
      "4/4 [==============================] - 1s 153ms/step - loss: 0.6474 - accuracy: 0.9469 - val_loss: 4.1361 - val_accuracy: 0.3768\n",
      "Epoch 20/150\n",
      "4/4 [==============================] - 1s 150ms/step - loss: 0.6111 - accuracy: 0.9614 - val_loss: 4.4968 - val_accuracy: 0.3768\n",
      "Epoch 21/150\n",
      "4/4 [==============================] - 1s 155ms/step - loss: 0.5761 - accuracy: 0.9469 - val_loss: 3.8762 - val_accuracy: 0.3913\n",
      "Epoch 22/150\n",
      "4/4 [==============================] - 1s 146ms/step - loss: 0.5728 - accuracy: 0.9517 - val_loss: 4.4111 - val_accuracy: 0.3768\n",
      "Epoch 23/150\n",
      "4/4 [==============================] - 1s 147ms/step - loss: 0.7775 - accuracy: 0.8986 - val_loss: 4.4521 - val_accuracy: 0.3913\n",
      "Epoch 24/150\n",
      "4/4 [==============================] - 1s 149ms/step - loss: 0.5998 - accuracy: 0.9372 - val_loss: 3.7857 - val_accuracy: 0.4058\n",
      "Epoch 25/150\n",
      "4/4 [==============================] - 1s 153ms/step - loss: 0.6540 - accuracy: 0.9179 - val_loss: 3.1057 - val_accuracy: 0.4493\n",
      "Epoch 26/150\n",
      "4/4 [==============================] - 1s 146ms/step - loss: 0.6039 - accuracy: 0.9324 - val_loss: 2.8660 - val_accuracy: 0.4638\n",
      "Epoch 27/150\n",
      "4/4 [==============================] - 1s 150ms/step - loss: 0.5713 - accuracy: 0.9372 - val_loss: 3.1726 - val_accuracy: 0.4783\n",
      "Epoch 28/150\n",
      "4/4 [==============================] - 1s 148ms/step - loss: 0.5248 - accuracy: 0.9469 - val_loss: 3.3015 - val_accuracy: 0.4638\n",
      "Epoch 29/150\n",
      "4/4 [==============================] - 1s 150ms/step - loss: 0.4959 - accuracy: 0.9710 - val_loss: 3.3653 - val_accuracy: 0.4493\n",
      "Epoch 30/150\n",
      "4/4 [==============================] - 1s 151ms/step - loss: 0.4688 - accuracy: 0.9807 - val_loss: 3.7898 - val_accuracy: 0.4203\n",
      "Epoch 31/150\n",
      "4/4 [==============================] - 1s 146ms/step - loss: 0.4862 - accuracy: 0.9614 - val_loss: 3.7023 - val_accuracy: 0.4203\n",
      "Epoch 32/150\n",
      "4/4 [==============================] - 1s 155ms/step - loss: 0.4498 - accuracy: 0.9758 - val_loss: 2.8000 - val_accuracy: 0.4638\n",
      "Epoch 33/150\n",
      "4/4 [==============================] - 1s 148ms/step - loss: 0.4262 - accuracy: 0.9710 - val_loss: 2.5082 - val_accuracy: 0.4783\n",
      "Epoch 34/150\n",
      "4/4 [==============================] - 1s 146ms/step - loss: 0.4758 - accuracy: 0.9565 - val_loss: 2.3628 - val_accuracy: 0.5652\n",
      "Epoch 35/150\n",
      "4/4 [==============================] - 1s 149ms/step - loss: 0.4667 - accuracy: 0.9614 - val_loss: 2.2327 - val_accuracy: 0.5942\n",
      "Epoch 36/150\n",
      "4/4 [==============================] - 1s 144ms/step - loss: 0.4801 - accuracy: 0.9420 - val_loss: 2.2042 - val_accuracy: 0.5942\n",
      "Epoch 37/150\n",
      "4/4 [==============================] - 1s 154ms/step - loss: 0.4031 - accuracy: 0.9758 - val_loss: 2.3619 - val_accuracy: 0.6087\n",
      "Epoch 38/150\n",
      "4/4 [==============================] - 1s 144ms/step - loss: 0.4296 - accuracy: 0.9662 - val_loss: 2.5279 - val_accuracy: 0.5942\n",
      "Epoch 39/150\n",
      "4/4 [==============================] - 1s 157ms/step - loss: 0.4268 - accuracy: 0.9758 - val_loss: 2.6336 - val_accuracy: 0.5797\n",
      "Epoch 40/150\n",
      "4/4 [==============================] - 1s 151ms/step - loss: 0.3690 - accuracy: 0.9903 - val_loss: 2.6769 - val_accuracy: 0.6087\n",
      "Epoch 41/150\n",
      "4/4 [==============================] - 1s 148ms/step - loss: 0.3896 - accuracy: 0.9807 - val_loss: 2.2088 - val_accuracy: 0.6522\n",
      "Epoch 42/150\n",
      "4/4 [==============================] - 1s 150ms/step - loss: 0.3545 - accuracy: 0.9952 - val_loss: 1.8026 - val_accuracy: 0.6667\n",
      "Epoch 43/150\n",
      "4/4 [==============================] - 1s 147ms/step - loss: 0.3463 - accuracy: 1.0000 - val_loss: 1.7514 - val_accuracy: 0.7101\n",
      "Epoch 44/150\n",
      "4/4 [==============================] - 1s 145ms/step - loss: 0.3755 - accuracy: 0.9758 - val_loss: 1.7020 - val_accuracy: 0.7101\n",
      "Epoch 45/150\n",
      "4/4 [==============================] - 1s 152ms/step - loss: 0.3473 - accuracy: 0.9903 - val_loss: 1.8541 - val_accuracy: 0.6812\n",
      "Epoch 46/150\n",
      "4/4 [==============================] - 1s 149ms/step - loss: 0.3274 - accuracy: 0.9952 - val_loss: 2.0597 - val_accuracy: 0.6667\n",
      "Epoch 47/150\n",
      "4/4 [==============================] - 1s 144ms/step - loss: 0.3377 - accuracy: 0.9855 - val_loss: 2.1557 - val_accuracy: 0.6667\n",
      "Epoch 48/150\n",
      "4/4 [==============================] - 1s 151ms/step - loss: 0.3328 - accuracy: 0.9855 - val_loss: 2.0367 - val_accuracy: 0.6957\n",
      "Epoch 49/150\n",
      "4/4 [==============================] - 1s 147ms/step - loss: 0.3243 - accuracy: 0.9903 - val_loss: 1.9024 - val_accuracy: 0.6812\n",
      "Epoch 50/150\n",
      "4/4 [==============================] - 1s 149ms/step - loss: 0.3110 - accuracy: 0.9952 - val_loss: 1.9747 - val_accuracy: 0.6957\n",
      "Epoch 51/150\n",
      "4/4 [==============================] - 1s 145ms/step - loss: 0.3784 - accuracy: 0.9710 - val_loss: 1.8422 - val_accuracy: 0.6957\n",
      "Epoch 52/150\n",
      "4/4 [==============================] - 1s 143ms/step - loss: 0.2942 - accuracy: 1.0000 - val_loss: 1.9538 - val_accuracy: 0.6232\n",
      "Epoch 53/150\n",
      "4/4 [==============================] - 1s 145ms/step - loss: 0.3007 - accuracy: 0.9952 - val_loss: 1.9476 - val_accuracy: 0.6377\n",
      "Epoch 54/150\n",
      "4/4 [==============================] - 1s 153ms/step - loss: 0.3309 - accuracy: 0.9807 - val_loss: 1.6665 - val_accuracy: 0.6957\n",
      "Epoch 55/150\n",
      "4/4 [==============================] - 1s 145ms/step - loss: 0.3793 - accuracy: 0.9662 - val_loss: 1.5287 - val_accuracy: 0.7246\n",
      "Epoch 56/150\n",
      "4/4 [==============================] - 1s 147ms/step - loss: 0.3301 - accuracy: 0.9758 - val_loss: 1.5071 - val_accuracy: 0.7246\n",
      "Epoch 57/150\n",
      "4/4 [==============================] - 1s 142ms/step - loss: 0.4455 - accuracy: 0.9372 - val_loss: 1.4552 - val_accuracy: 0.7391\n",
      "Epoch 58/150\n",
      "4/4 [==============================] - 1s 138ms/step - loss: 0.3403 - accuracy: 0.9758 - val_loss: 1.5539 - val_accuracy: 0.7681\n"
     ]
    },
    {
     "name": "stdout",
     "output_type": "stream",
     "text": [
      "Epoch 59/150\n",
      "4/4 [==============================] - 1s 145ms/step - loss: 0.3344 - accuracy: 0.9903 - val_loss: 1.6854 - val_accuracy: 0.7536\n",
      "Epoch 60/150\n",
      "4/4 [==============================] - 1s 144ms/step - loss: 0.3373 - accuracy: 0.9903 - val_loss: 1.6838 - val_accuracy: 0.7391\n",
      "Epoch 61/150\n",
      "4/4 [==============================] - 1s 150ms/step - loss: 0.2932 - accuracy: 0.9952 - val_loss: 1.6336 - val_accuracy: 0.7391\n",
      "Epoch 62/150\n",
      "4/4 [==============================] - 1s 150ms/step - loss: 0.3015 - accuracy: 0.9903 - val_loss: 1.6227 - val_accuracy: 0.7246\n",
      "Epoch 63/150\n",
      "4/4 [==============================] - 1s 154ms/step - loss: 0.2916 - accuracy: 1.0000 - val_loss: 1.6362 - val_accuracy: 0.7246\n",
      "Epoch 64/150\n",
      "4/4 [==============================] - 1s 139ms/step - loss: 0.2924 - accuracy: 0.9903 - val_loss: 1.5802 - val_accuracy: 0.7246\n",
      "Epoch 65/150\n",
      "4/4 [==============================] - 1s 143ms/step - loss: 0.2631 - accuracy: 1.0000 - val_loss: 1.5413 - val_accuracy: 0.7391\n",
      "Epoch 66/150\n",
      "4/4 [==============================] - 1s 144ms/step - loss: 0.3125 - accuracy: 0.9855 - val_loss: 1.4819 - val_accuracy: 0.7391\n",
      "Epoch 67/150\n",
      "4/4 [==============================] - 1s 144ms/step - loss: 0.3087 - accuracy: 0.9855 - val_loss: 1.4358 - val_accuracy: 0.7391\n",
      "Epoch 68/150\n",
      "4/4 [==============================] - 1s 139ms/step - loss: 0.2672 - accuracy: 0.9952 - val_loss: 1.4661 - val_accuracy: 0.7246\n",
      "Epoch 69/150\n",
      "4/4 [==============================] - 1s 143ms/step - loss: 0.2655 - accuracy: 0.9952 - val_loss: 1.5237 - val_accuracy: 0.7246\n",
      "Epoch 70/150\n",
      "4/4 [==============================] - 1s 148ms/step - loss: 0.2514 - accuracy: 1.0000 - val_loss: 1.5242 - val_accuracy: 0.7101\n",
      "Epoch 71/150\n",
      "4/4 [==============================] - 1s 151ms/step - loss: 0.2557 - accuracy: 0.9952 - val_loss: 1.5246 - val_accuracy: 0.7246\n",
      "Epoch 72/150\n",
      "4/4 [==============================] - 1s 153ms/step - loss: 0.2424 - accuracy: 1.0000 - val_loss: 1.6076 - val_accuracy: 0.7391\n",
      "Epoch 73/150\n",
      "4/4 [==============================] - 1s 148ms/step - loss: 0.2764 - accuracy: 0.9807 - val_loss: 1.5148 - val_accuracy: 0.7391\n",
      "Epoch 74/150\n",
      "4/4 [==============================] - 1s 145ms/step - loss: 0.2446 - accuracy: 0.9952 - val_loss: 1.4288 - val_accuracy: 0.7246\n",
      "Epoch 75/150\n",
      "4/4 [==============================] - 1s 148ms/step - loss: 0.2566 - accuracy: 0.9807 - val_loss: 1.2857 - val_accuracy: 0.7536\n",
      "Epoch 76/150\n",
      "4/4 [==============================] - 1s 143ms/step - loss: 0.2570 - accuracy: 0.9855 - val_loss: 1.2608 - val_accuracy: 0.7536\n",
      "Epoch 77/150\n",
      "4/4 [==============================] - 1s 150ms/step - loss: 0.2338 - accuracy: 1.0000 - val_loss: 1.3459 - val_accuracy: 0.7826\n",
      "Epoch 78/150\n",
      "4/4 [==============================] - 1s 147ms/step - loss: 0.3009 - accuracy: 0.9758 - val_loss: 1.3547 - val_accuracy: 0.7971\n",
      "Epoch 79/150\n",
      "4/4 [==============================] - 1s 148ms/step - loss: 0.2366 - accuracy: 0.9903 - val_loss: 1.4641 - val_accuracy: 0.7101\n",
      "Epoch 80/150\n",
      "4/4 [==============================] - 1s 143ms/step - loss: 0.2854 - accuracy: 0.9758 - val_loss: 1.4981 - val_accuracy: 0.6812\n",
      "Epoch 81/150\n",
      "4/4 [==============================] - 1s 148ms/step - loss: 0.2713 - accuracy: 0.9855 - val_loss: 1.4414 - val_accuracy: 0.7101\n",
      "Epoch 82/150\n",
      "4/4 [==============================] - 1s 146ms/step - loss: 0.2289 - accuracy: 1.0000 - val_loss: 1.3864 - val_accuracy: 0.7536\n",
      "Epoch 83/150\n",
      "4/4 [==============================] - 1s 145ms/step - loss: 0.2432 - accuracy: 0.9952 - val_loss: 1.3677 - val_accuracy: 0.7391\n",
      "Epoch 84/150\n",
      "4/4 [==============================] - 1s 149ms/step - loss: 0.2250 - accuracy: 1.0000 - val_loss: 1.3352 - val_accuracy: 0.7536\n",
      "Epoch 85/150\n",
      "4/4 [==============================] - 1s 148ms/step - loss: 0.2232 - accuracy: 1.0000 - val_loss: 1.3562 - val_accuracy: 0.7536\n",
      "Epoch 86/150\n",
      "4/4 [==============================] - 1s 155ms/step - loss: 0.2218 - accuracy: 1.0000 - val_loss: 1.3742 - val_accuracy: 0.7536\n",
      "Epoch 87/150\n",
      "4/4 [==============================] - 1s 150ms/step - loss: 0.2177 - accuracy: 0.9952 - val_loss: 1.3734 - val_accuracy: 0.7826\n",
      "Epoch 88/150\n",
      "4/4 [==============================] - 1s 151ms/step - loss: 0.2156 - accuracy: 0.9952 - val_loss: 1.3799 - val_accuracy: 0.7826\n",
      "Epoch 89/150\n",
      "4/4 [==============================] - 1s 150ms/step - loss: 0.2093 - accuracy: 1.0000 - val_loss: 1.4062 - val_accuracy: 0.7826\n",
      "Epoch 90/150\n",
      "4/4 [==============================] - 1s 134ms/step - loss: 0.2084 - accuracy: 1.0000 - val_loss: 1.4180 - val_accuracy: 0.7681\n",
      "Epoch 91/150\n",
      "4/4 [==============================] - 1s 140ms/step - loss: 0.2069 - accuracy: 1.0000 - val_loss: 1.4112 - val_accuracy: 0.7536\n",
      "Epoch 92/150\n",
      "4/4 [==============================] - 1s 158ms/step - loss: 0.2066 - accuracy: 1.0000 - val_loss: 1.4162 - val_accuracy: 0.7536\n",
      "Epoch 93/150\n",
      "4/4 [==============================] - 1s 149ms/step - loss: 0.1998 - accuracy: 1.0000 - val_loss: 1.4863 - val_accuracy: 0.7681\n",
      "Epoch 94/150\n",
      "4/4 [==============================] - 1s 154ms/step - loss: 0.2633 - accuracy: 0.9855 - val_loss: 1.4031 - val_accuracy: 0.7536\n",
      "Epoch 95/150\n",
      "4/4 [==============================] - 1s 149ms/step - loss: 0.2411 - accuracy: 0.9952 - val_loss: 1.3708 - val_accuracy: 0.7391\n",
      "Epoch 96/150\n",
      "4/4 [==============================] - 1s 150ms/step - loss: 0.1936 - accuracy: 1.0000 - val_loss: 1.3386 - val_accuracy: 0.7536\n",
      "Epoch 97/150\n",
      "4/4 [==============================] - 1s 150ms/step - loss: 0.1980 - accuracy: 0.9952 - val_loss: 1.3169 - val_accuracy: 0.7826\n",
      "Epoch 98/150\n",
      "4/4 [==============================] - 1s 144ms/step - loss: 0.1877 - accuracy: 1.0000 - val_loss: 1.3548 - val_accuracy: 0.7826\n",
      "Epoch 99/150\n",
      "4/4 [==============================] - 1s 146ms/step - loss: 0.1931 - accuracy: 0.9952 - val_loss: 1.3704 - val_accuracy: 0.7826\n",
      "Epoch 100/150\n",
      "4/4 [==============================] - 1s 141ms/step - loss: 0.2006 - accuracy: 0.9952 - val_loss: 1.3639 - val_accuracy: 0.7681\n",
      "Epoch 101/150\n",
      "4/4 [==============================] - 1s 150ms/step - loss: 0.1936 - accuracy: 0.9952 - val_loss: 1.3787 - val_accuracy: 0.7681\n",
      "Epoch 102/150\n",
      "4/4 [==============================] - 1s 145ms/step - loss: 0.2193 - accuracy: 0.9855 - val_loss: 1.4148 - val_accuracy: 0.7826\n",
      "Epoch 103/150\n",
      "4/4 [==============================] - 1s 150ms/step - loss: 0.3194 - accuracy: 0.9614 - val_loss: 1.4856 - val_accuracy: 0.7391\n",
      "Epoch 104/150\n",
      "4/4 [==============================] - 1s 144ms/step - loss: 0.2401 - accuracy: 0.9855 - val_loss: 1.4957 - val_accuracy: 0.7681\n",
      "Epoch 105/150\n",
      "4/4 [==============================] - 1s 149ms/step - loss: 0.2180 - accuracy: 0.9807 - val_loss: 1.4149 - val_accuracy: 0.7681\n",
      "Epoch 106/150\n",
      "4/4 [==============================] - 1s 141ms/step - loss: 0.1913 - accuracy: 0.9952 - val_loss: 1.3542 - val_accuracy: 0.7971\n",
      "Epoch 107/150\n",
      "4/4 [==============================] - 1s 148ms/step - loss: 0.1914 - accuracy: 0.9952 - val_loss: 1.3897 - val_accuracy: 0.7391\n",
      "Epoch 108/150\n",
      "4/4 [==============================] - 1s 149ms/step - loss: 0.2031 - accuracy: 0.9903 - val_loss: 1.2652 - val_accuracy: 0.7536\n",
      "Epoch 109/150\n",
      "4/4 [==============================] - 1s 149ms/step - loss: 0.1908 - accuracy: 1.0000 - val_loss: 1.3076 - val_accuracy: 0.7681\n",
      "Epoch 110/150\n",
      "4/4 [==============================] - 1s 147ms/step - loss: 0.1882 - accuracy: 0.9952 - val_loss: 1.3333 - val_accuracy: 0.7826\n",
      "Epoch 111/150\n",
      "4/4 [==============================] - 1s 146ms/step - loss: 0.2032 - accuracy: 0.9903 - val_loss: 1.3241 - val_accuracy: 0.7826\n",
      "Epoch 112/150\n",
      "4/4 [==============================] - 1s 144ms/step - loss: 0.2763 - accuracy: 0.9807 - val_loss: 1.4587 - val_accuracy: 0.7536\n",
      "Epoch 113/150\n",
      "4/4 [==============================] - 1s 155ms/step - loss: 0.2154 - accuracy: 0.9903 - val_loss: 1.3538 - val_accuracy: 0.7826\n"
     ]
    }
   ],
   "source": [
    "LSTM_training_history = model.fit(x = features_train, y = labels_train, batch_size = 64, epochs = 150, \n",
    "                                  shuffle = True, callbacks = [early_stopping_callback], validation_data = (features_test, labels_test))\n",
    "   "
   ]
  },
  {
   "cell_type": "code",
   "execution_count": 22,
   "id": "dd7116e7",
   "metadata": {},
   "outputs": [
    {
     "name": "stdout",
     "output_type": "stream",
     "text": [
      "3/3 [==============================] - 0s 17ms/step - loss: 1.3548 - accuracy: 0.7826\n"
     ]
    }
   ],
   "source": [
    "model_evaluation_history = model.evaluate(features_test, labels_test)"
   ]
  },
  {
   "cell_type": "code",
   "execution_count": 23,
   "id": "e55e7085",
   "metadata": {},
   "outputs": [
    {
     "name": "stdout",
     "output_type": "stream",
     "text": [
      "Test Loss: 1.3548\n",
      "Test Accuracy: 78.26%\n"
     ]
    }
   ],
   "source": [
    "loss = model_evaluation_history[0]\n",
    "accuracy = model_evaluation_history[1]\n",
    "\n",
    "print(f\"Test Loss: {loss:.4f}\")\n",
    "print(f\"Test Accuracy: {accuracy * 100:.2f}%\")"
   ]
  },
  {
   "cell_type": "code",
   "execution_count": 24,
   "id": "40b79fca",
   "metadata": {},
   "outputs": [
    {
     "name": "stderr",
     "output_type": "stream",
     "text": [
      "C:\\Users\\cspil\\anaconda3\\Lib\\site-packages\\keras\\src\\engine\\training.py:3000: UserWarning: You are saving your model as an HDF5 file via `model.save()`. This file format is considered legacy. We recommend using instead the native Keras format, e.g. `model.save('my_model.keras')`.\n",
      "  saving_api.save_model(\n"
     ]
    }
   ],
   "source": [
    "from keras.models import load_model\n",
    "model.save('../Models/MoveNet_DEF.h5')"
   ]
  },
  {
   "cell_type": "code",
   "execution_count": 25,
   "id": "d2bc51b5",
   "metadata": {},
   "outputs": [],
   "source": [
    "model.save('../Models/MoveNet_DEF.keras')"
   ]
  },
  {
   "cell_type": "code",
   "execution_count": 26,
   "id": "1d23d560",
   "metadata": {},
   "outputs": [
    {
     "data": {
      "image/png": "[encoded data removed]",
      "text/plain": [
       "<IPython.core.display.Image object>"
      ]
     },
     "execution_count": 26,
     "metadata": {},
     "output_type": "execute_result"
    }
   ],
   "source": [
    "tf.keras.utils.plot_model(model, to_file = '../pipeline/MoveNet_model_structure_plot.png', show_shapes = True, show_layer_names = True)\n"
   ]
  },
  {
   "cell_type": "code",
   "execution_count": 27,
   "id": "c9b3c5e7",
   "metadata": {},
   "outputs": [
    {
     "name": "stdout",
     "output_type": "stream",
     "text": [
      "Requirement already satisfied: pydotplus in c:\\users\\cspil\\anaconda3\\lib\\site-packages (2.0.2)\n",
      "Requirement already satisfied: pyparsing>=2.0.1 in c:\\users\\cspil\\anaconda3\\lib\\site-packages (from pydotplus) (3.0.9)\n"
     ]
    }
   ],
   "source": [
    "!pip install pydotplus"
   ]
  },
  {
   "cell_type": "code",
   "execution_count": 28,
   "id": "14e385df",
   "metadata": {},
   "outputs": [
    {
     "name": "stdout",
     "output_type": "stream",
     "text": [
      "Requirement already satisfied: pydot in c:\\users\\cspil\\anaconda3\\lib\\site-packages (1.4.2)\n",
      "Requirement already satisfied: pyparsing>=2.1.4 in c:\\users\\cspil\\anaconda3\\lib\\site-packages (from pydot) (3.0.9)\n"
     ]
    }
   ],
   "source": [
    "!pip install pydot"
   ]
  },
  {
   "cell_type": "code",
   "execution_count": 29,
   "id": "4cef4575",
   "metadata": {},
   "outputs": [
    {
     "name": "stdout",
     "output_type": "stream",
     "text": [
      "Collecting package metadata (current_repodata.json): ...working... done\n",
      "Solving environment: ...working... done\n",
      "\n",
      "# All requested packages already installed.\n",
      "\n",
      "\n",
      "Note: you may need to restart the kernel to use updated packages.\n"
     ]
    },
    {
     "name": "stderr",
     "output_type": "stream",
     "text": [
      "DEBUG:urllib3.connectionpool:Starting new HTTPS connection (1): repo.anaconda.com:443\n",
      "DEBUG:urllib3.connectionpool:Starting new HTTPS connection (1): repo.anaconda.com:443\n",
      "DEBUG:urllib3.connectionpool:Starting new HTTPS connection (1): repo.anaconda.com:443\n",
      "DEBUG:urllib3.connectionpool:Starting new HTTPS connection (1): repo.anaconda.com:443\n",
      "DEBUG:urllib3.connectionpool:Starting new HTTPS connection (1): repo.anaconda.com:443\n",
      "DEBUG:urllib3.connectionpool:Starting new HTTPS connection (1): repo.anaconda.com:443\n",
      "DEBUG:urllib3.connectionpool:https://repo.anaconda.com:443 \"GET /pkgs/msys2/noarch/current_repodata.json HTTP/1.1\" 304 0\n",
      "DEBUG:urllib3.connectionpool:https://repo.anaconda.com:443 \"GET /pkgs/r/win-64/current_repodata.json HTTP/1.1\" 304 0\n",
      "DEBUG:urllib3.connectionpool:https://repo.anaconda.com:443 \"GET /pkgs/main/win-64/current_repodata.json HTTP/1.1\" 304 0\n",
      "DEBUG:urllib3.connectionpool:https://repo.anaconda.com:443 \"GET /pkgs/main/noarch/current_repodata.json HTTP/1.1\" 304 0\n",
      "DEBUG:urllib3.connectionpool:https://repo.anaconda.com:443 \"GET /pkgs/r/noarch/current_repodata.json HTTP/1.1\" 304 0\n",
      "DEBUG:urllib3.connectionpool:https://repo.anaconda.com:443 \"GET /pkgs/msys2/win-64/current_repodata.json HTTP/1.1\" 304 0\n"
     ]
    }
   ],
   "source": [
    "conda install graphviz"
   ]
  },
  {
   "cell_type": "code",
   "execution_count": 30,
   "id": "7d268572",
   "metadata": {},
   "outputs": [
    {
     "data": {
      "text/plain": [
       "<matplotlib.legend.Legend at 0x239dbbcda50>"
      ]
     },
     "execution_count": 30,
     "metadata": {},
     "output_type": "execute_result"
    },
    {
     "data": {
      "image/png": "[encoded data removed]",
      "text/plain": [
       "<Figure size 640x480 with 1 Axes>"
      ]
     },
     "metadata": {},
     "output_type": "display_data"
    }
   ],
   "source": [
    "plt.subplot(1, 2, 1)\n",
    "plt.plot(LSTM_training_history.history['loss'])\n",
    "plt.plot(LSTM_training_history.history['val_loss'])\n",
    "plt.ylim([0.0, 5.0])\n",
    "plt.xlabel('Epoch')\n",
    "plt.ylabel('Loss')\n",
    "plt.legend(['train', 'valid'])"
   ]
  },
  {
   "cell_type": "code",
   "execution_count": 31,
   "id": "dbe8b8cb",
   "metadata": {},
   "outputs": [
    {
     "data": {
      "text/plain": [
       "<matplotlib.legend.Legend at 0x239dbb73e90>"
      ]
     },
     "execution_count": 31,
     "metadata": {},
     "output_type": "execute_result"
    },
    {
     "data": {
      "image/png": "[encoded data removed]",
      "text/plain": [
       "<Figure size 640x480 with 1 Axes>"
      ]
     },
     "metadata": {},
     "output_type": "display_data"
    }
   ],
   "source": [
    "plt.subplot(1, 2, 2)\n",
    "plt.plot(LSTM_training_history.history['accuracy'])\n",
    "plt.plot(LSTM_training_history.history['val_accuracy'])\n",
    "plt.ylim([0, 1.0])\n",
    "plt.xlabel('Epoch')\n",
    "plt.ylabel('Accuracy')\n",
    "plt.legend(['train', 'valid'])"
   ]
  },
  {
   "cell_type": "code",
   "execution_count": 32,
   "id": "caf4288b",
   "metadata": {},
   "outputs": [],
   "source": [
    "# Load the trained model\n",
    "loaded_model = load_model('../Models/MoveNet_DEF.h5')"
   ]
  },
  {
   "cell_type": "code",
   "execution_count": 33,
   "id": "4def37ca",
   "metadata": {},
   "outputs": [],
   "source": [
    "# Define constants for image dimensions\n",
    "IMAGE_HEIGHT, IMAGE_WIDTH = 224, 224\n",
    "SEQUENCE_LENGTH = 10"
   ]
  },
  {
   "cell_type": "code",
   "execution_count": 34,
   "id": "25ffa6c4",
   "metadata": {},
   "outputs": [],
   "source": [
    "# Create a list to store frames\n",
    "frames_list = []"
   ]
  },
  {
   "cell_type": "code",
   "execution_count": 35,
   "id": "d8d3b6f2",
   "metadata": {},
   "outputs": [],
   "source": [
    "# Open the video file for reading\n",
    "video_path = 'D:/MoveNet/sample_1.mp4'\n",
    "video_reader = cv2.VideoCapture(video_path)"
   ]
  },
  {
   "cell_type": "code",
   "execution_count": 36,
   "id": "fe64970b",
   "metadata": {},
   "outputs": [],
   "source": [
    "class_names = [\"cartwheel\", \"clap\",  \"climbstairs\", \"handstand\", \"jump\", \"pullup\", \"pushup\", \"run\", \"situp\", \"somersault\", \"turn\", \"walk\"]"
   ]
  },
  {
   "cell_type": "code",
   "execution_count": 37,
   "id": "a6e1dae5",
   "metadata": {},
   "outputs": [
    {
     "name": "stdout",
     "output_type": "stream",
     "text": [
      "1/1 [==============================] - 3s 3s/step\n",
      "Predicted Action: turn\n"
     ]
    }
   ],
   "source": [
    "while True:\n",
    "    success, frame = video_reader.read()\n",
    "\n",
    "    # If the reading was not successful or the frame is empty, break the loop\n",
    "    if not success or frame is None:\n",
    "        break\n",
    "\n",
    "    # Resize the frame to the chosen dimensions\n",
    "    resized_frame = cv2.resize(frame, (IMAGE_HEIGHT, IMAGE_WIDTH))\n",
    "\n",
    "    # Convert the frame to RGB format\n",
    "    rgb_frame = cv2.cvtColor(resized_frame, cv2.COLOR_BGR2RGB)\n",
    "    \n",
    "    # Convert the frame to a tensor and preprocess it\n",
    "    image = tf.convert_to_tensor(rgb_frame)\n",
    "    person = detect(image)\n",
    "\n",
    "    # Save the 17 keypoints and check confidence\n",
    "    min_landmark_score = min([keypoint.score for keypoint in person.keypoints])\n",
    "    should_keep_image = min_landmark_score >= detection_threshold\n",
    "\n",
    "    if not should_keep_image:\n",
    "        continue\n",
    "\n",
    "    pose_landmarks = np.array(\n",
    "        [[keypoint.coordinate.x, keypoint.coordinate.y, keypoint.score]\n",
    "          for keypoint in person.keypoints],\n",
    "        dtype=np.float32)\n",
    "\n",
    "    coordinates = pose_landmarks.flatten().astype(str).tolist()\n",
    "    \n",
    "    # Append the coordinates to the frames_list\n",
    "    frames_list.append(coordinates)\n",
    "\n",
    "    # If we have collected SEQUENCE_LENGTH frames, preprocess and predict\n",
    "    if len(frames_list) == SEQUENCE_LENGTH:\n",
    "        # Convert frames_list to a numpy array and add a batch dimension\n",
    "        frames_array = np.array([frames_list], dtype = float)\n",
    "        \n",
    "        # Use the loaded model to predict the action\n",
    "        predictions = loaded_model.predict(frames_array)\n",
    "        \n",
    "        # Post-process predictions to determine the action\n",
    "        predicted_action = np.argmax(predictions)\n",
    "        \n",
    "        # Get the predicted class name based on the numeric label\n",
    "        predicted_class_name = class_names[predicted_action]\n",
    "\n",
    "        # Print or store the predicted class name\n",
    "        print(f\"Predicted Action: {predicted_class_name}\")\n",
    "        \n",
    "        # Clear frames_list for the next sequence\n",
    "        frames_list.clear()\n",
    "\n",
    "# Release the video reader\n",
    "video_reader.release()"
   ]
  },
  {
   "cell_type": "code",
   "execution_count": null,
   "id": "2eb82480",
   "metadata": {},
   "outputs": [],
   "source": []
  }
 ],
 "metadata": {
  "kernelspec": {
   "display_name": "Python 3 (ipykernel)",
   "language": "python",
   "name": "python3"
  },
  "language_info": {
   "codemirror_mode": {
    "name": "ipython",
    "version": 3
   },
   "file_extension": ".py",
   "mimetype": "text/x-python",
   "name": "python",
   "nbconvert_exporter": "python",
   "pygments_lexer": "ipython3",
   "version": "3.11.4"
  }
 },
 "nbformat": 4,
 "nbformat_minor": 5
}
